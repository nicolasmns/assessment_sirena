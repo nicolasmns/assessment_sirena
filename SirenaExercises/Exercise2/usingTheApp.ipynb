{
 "cells": [
  {
   "cell_type": "code",
   "execution_count": 1,
   "metadata": {},
   "outputs": [],
   "source": [
    "from src.logger import Logging"
   ]
  },
  {
   "cell_type": "code",
   "execution_count": 2,
   "metadata": {},
   "outputs": [
    {
     "name": "stdout",
     "output_type": "stream",
     "text": [
      "[INFO][file1.py][function1] \n",
      "\n"
     ]
    }
   ],
   "source": [
    "logger = Logging()\n",
    "logger.info(\"file1.py\",\"function1\") #Default logging_level equals 0 which prints every type of log available."
   ]
  },
  {
   "cell_type": "code",
   "execution_count": 3,
   "metadata": {},
   "outputs": [
    {
     "name": "stdout",
     "output_type": "stream",
     "text": [
      "Level set to WARNING\n"
     ]
    }
   ],
   "source": [
    "logger.set_login_level(\"warning\") #will only print warning and errors."
   ]
  },
  {
   "cell_type": "code",
   "execution_count": 4,
   "metadata": {},
   "outputs": [
    {
     "name": "stdout",
     "output_type": "stream",
     "text": [
      "[WARNING][file2.c][function2] missing semicolon\n",
      "\n"
     ]
    }
   ],
   "source": [
    "logger.warning(\"file2.c\",\"function2\",\"missing semicolon\") #comments are optional."
   ]
  },
  {
   "cell_type": "code",
   "execution_count": 5,
   "metadata": {},
   "outputs": [
    {
     "name": "stdout",
     "output_type": "stream",
     "text": [
      "[WARNING][file2.c][function2] missing semicolon\n",
      "\n",
      "[WARNING][file3.java][get_attribute] \n",
      "\n"
     ]
    }
   ],
   "source": [
    "logger.warning(\"file3.java\",\"get_attribute\")"
   ]
  },
  {
   "cell_type": "code",
   "execution_count": 6,
   "metadata": {},
   "outputs": [
    {
     "name": "stdout",
     "output_type": "stream",
     "text": [
      "[WARNING][file2.c][function2] missing semicolon\n",
      "\n",
      "[WARNING][file3.java][get_attribute] \n",
      "\n",
      "[ERROR][file4.py][__init__] \n",
      "\n"
     ]
    }
   ],
   "source": [
    "logger.error(\"file4.py\",\"__init__\") "
   ]
  },
  {
   "cell_type": "code",
   "execution_count": 7,
   "metadata": {},
   "outputs": [
    {
     "name": "stdout",
     "output_type": "stream",
     "text": [
      "Level set to ERROR\n"
     ]
    }
   ],
   "source": [
    "logger.set_login_level(\"error\") "
   ]
  },
  {
   "cell_type": "code",
   "execution_count": 8,
   "metadata": {},
   "outputs": [
    {
     "name": "stdout",
     "output_type": "stream",
     "text": [
      "[ERROR][file4.py][__init__] \n",
      "\n"
     ]
    }
   ],
   "source": [
    "logger.get_all_logs() #will only print errors because the log_level is set to errors."
   ]
  },
  {
   "cell_type": "code",
   "execution_count": 9,
   "metadata": {},
   "outputs": [
    {
     "name": "stdout",
     "output_type": "stream",
     "text": [
      "Level set to DEBUG\n"
     ]
    }
   ],
   "source": [
    "logger.set_login_level(\"debug\") #will print everything."
   ]
  },
  {
   "cell_type": "code",
   "execution_count": 10,
   "metadata": {},
   "outputs": [
    {
     "name": "stdout",
     "output_type": "stream",
     "text": [
      "[INFO][file1.py][function1] \n",
      "\n",
      "[WARNING][file2.c][function2] missing semicolon\n",
      "\n",
      "[WARNING][file3.java][get_attribute] \n",
      "\n",
      "[ERROR][file4.py][__init__] \n",
      "\n",
      "[DEBUG][file5.py][get_report] \n",
      "\n"
     ]
    }
   ],
   "source": [
    "logger.debug(\"file5.py\",\"get_report\")"
   ]
  },
  {
   "cell_type": "code",
   "execution_count": 11,
   "metadata": {},
   "outputs": [
    {
     "name": "stdout",
     "output_type": "stream",
     "text": [
      "Level set to INFO\n"
     ]
    }
   ],
   "source": [
    "logger.set_login_level(\"info\") #will only print info, warning and error."
   ]
  },
  {
   "cell_type": "code",
   "execution_count": 12,
   "metadata": {},
   "outputs": [
    {
     "name": "stdout",
     "output_type": "stream",
     "text": [
      "[INFO][file1.py][function1] \n",
      "\n",
      "[WARNING][file2.c][function2] missing semicolon\n",
      "\n",
      "[WARNING][file3.java][get_attribute] \n",
      "\n",
      "[ERROR][file4.py][__init__] \n",
      "\n",
      "[INFO][file6.py][__str__] \n",
      "\n"
     ]
    }
   ],
   "source": [
    "logger.info(\"file6.py\",\"__str__\")"
   ]
  },
  {
   "cell_type": "code",
   "execution_count": 13,
   "metadata": {},
   "outputs": [
    {
     "name": "stdout",
     "output_type": "stream",
     "text": [
      "Logs have been deleted.\n"
     ]
    }
   ],
   "source": [
    "logger.delete_all_logs() #deletes all saved logs.\n",
    "logger.get_all_logs() #therefore, this won't print anything."
   ]
  },
  {
   "cell_type": "code",
   "execution_count": 14,
   "metadata": {},
   "outputs": [],
   "source": [
    "#The level is set to INFO so debug won't appear\n",
    "logger.debug(\"file7.py\",\"function7\",\"some debug report about the function\") "
   ]
  },
  {
   "cell_type": "code",
   "execution_count": 15,
   "metadata": {},
   "outputs": [
    {
     "name": "stdout",
     "output_type": "stream",
     "text": [
      "[INFO][file8.py][function8] some info about the function\n",
      "\n"
     ]
    }
   ],
   "source": [
    "logger.info(\"file8.py\",\"function8\",\"some info about the function\")"
   ]
  },
  {
   "cell_type": "code",
   "execution_count": 16,
   "metadata": {},
   "outputs": [
    {
     "name": "stdout",
     "output_type": "stream",
     "text": [
      "[INFO][file8.py][function8] some info about the function\n",
      "\n",
      "[WARNING][file9.py][function9] \n",
      "\n"
     ]
    }
   ],
   "source": [
    "logger.warning(\"file9.py\",\"function9\")"
   ]
  },
  {
   "cell_type": "code",
   "execution_count": 17,
   "metadata": {},
   "outputs": [
    {
     "name": "stdout",
     "output_type": "stream",
     "text": [
      "[INFO][file8.py][function8] some info about the function\n",
      "\n",
      "[WARNING][file9.py][function9] \n",
      "\n",
      "[ERROR][file10.py][function10] error in function 10\n",
      "\n"
     ]
    }
   ],
   "source": [
    "logger.error(\"file10.py\",\"function10\",\"error in function 10\")"
   ]
  },
  {
   "cell_type": "code",
   "execution_count": 18,
   "metadata": {},
   "outputs": [
    {
     "name": "stdout",
     "output_type": "stream",
     "text": [
      "logs.txt\n"
     ]
    }
   ],
   "source": [
    "#You can save the logs to a file, just specify how you'd like to name your file in the function.\n",
    "logger.save_to_file(\"logs\")"
   ]
  },
  {
   "cell_type": "code",
   "execution_count": 19,
   "metadata": {
    "scrolled": true
   },
   "outputs": [
    {
     "name": "stdout",
     "output_type": "stream",
     "text": [
      "The level you've entered is invalid or doesn't exist.\n"
     ]
    }
   ],
   "source": [
    "logger.set_login_level(\"critical\") #This will throw an error because critical hasn't been created yet and therefore it's not\n",
    "                                   #a valid type"
   ]
  }
 ],
 "metadata": {
  "kernelspec": {
   "display_name": "Python 3",
   "language": "python",
   "name": "python3"
  },
  "language_info": {
   "codemirror_mode": {
    "name": "ipython",
    "version": 3
   },
   "file_extension": ".py",
   "mimetype": "text/x-python",
   "name": "python",
   "nbconvert_exporter": "python",
   "pygments_lexer": "ipython3",
   "version": "3.8.3"
  }
 },
 "nbformat": 4,
 "nbformat_minor": 4
}
